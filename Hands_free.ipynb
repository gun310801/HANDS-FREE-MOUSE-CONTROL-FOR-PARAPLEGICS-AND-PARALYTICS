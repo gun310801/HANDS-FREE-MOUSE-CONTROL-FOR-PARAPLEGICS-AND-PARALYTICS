{
 "cells": [
  {
   "cell_type": "code",
   "execution_count": 11,
   "metadata": {},
   "outputs": [
    {
     "name": "stdout",
     "output_type": "stream",
     "text": [
      "Collecting imutils\n",
      "  Downloading imutils-0.5.4.tar.gz (17 kB)\n",
      "  Preparing metadata (setup.py) ... \u001b[?25ldone\n",
      "\u001b[?25hBuilding wheels for collected packages: imutils\n",
      "  Building wheel for imutils (setup.py) ... \u001b[?25ldone\n",
      "\u001b[?25h  Created wheel for imutils: filename=imutils-0.5.4-py3-none-any.whl size=25836 sha256=dbf4b4696775e57c84c82c8c239293f55c673d36e8c35ad86f84dc5927572513\n",
      "  Stored in directory: /Users/gunik/Library/Caches/pip/wheels/31/d0/2c/87ce38f6052879e5b7b18f0f8b4a10ad2a9d210e908d449f16\n",
      "Successfully built imutils\n",
      "\u001b[33mDEPRECATION: textract 1.6.5 has a non-standard dependency specifier extract-msg<=0.29.*. pip 23.3 will enforce this behaviour change. A possible replacement is to upgrade to a newer version of textract or contact the author to suggest that they release a version with a conforming dependency specifiers. Discussion can be found at https://github.com/pypa/pip/issues/12063\u001b[0m\u001b[33m\n",
      "\u001b[0mInstalling collected packages: imutils\n",
      "Successfully installed imutils-0.5.4\n",
      "Note: you may need to restart the kernel to use updated packages.\n"
     ]
    }
   ],
   "source": [
    "pip install imutils\n"
   ]
  },
  {
   "cell_type": "code",
   "execution_count": 12,
   "metadata": {},
   "outputs": [
    {
     "name": "stdout",
     "output_type": "stream",
     "text": [
      "Collecting utils\n",
      "  Downloading utils-1.0.2.tar.gz (13 kB)\n",
      "  Preparing metadata (setup.py) ... \u001b[?25ldone\n",
      "\u001b[?25hBuilding wheels for collected packages: utils\n",
      "  Building wheel for utils (setup.py) ... \u001b[?25ldone\n",
      "\u001b[?25h  Created wheel for utils: filename=utils-1.0.2-py2.py3-none-any.whl size=13906 sha256=9955de67c98a8dd57fdfbe06258668f75246d3472f363ab8a03960528dabcd22\n",
      "  Stored in directory: /Users/gunik/Library/Caches/pip/wheels/15/0c/b3/674aea8c5d91c642c817d4d630bd58faa316724b136844094d\n",
      "Successfully built utils\n",
      "\u001b[33mDEPRECATION: textract 1.6.5 has a non-standard dependency specifier extract-msg<=0.29.*. pip 23.3 will enforce this behaviour change. A possible replacement is to upgrade to a newer version of textract or contact the author to suggest that they release a version with a conforming dependency specifiers. Discussion can be found at https://github.com/pypa/pip/issues/12063\u001b[0m\u001b[33m\n",
      "\u001b[0mInstalling collected packages: utils\n",
      "Successfully installed utils-1.0.2\n",
      "Note: you may need to restart the kernel to use updated packages.\n"
     ]
    }
   ],
   "source": [
    "pip install utils"
   ]
  },
  {
   "cell_type": "code",
   "execution_count": 13,
   "metadata": {},
   "outputs": [
    {
     "name": "stdout",
     "output_type": "stream",
     "text": [
      "Collecting pyautogui\n",
      "  Downloading PyAutoGUI-0.9.54.tar.gz (61 kB)\n",
      "\u001b[2K     \u001b[90m━━━━━━━━━━━━━━━━━━━━━━━━━━━━━━━━━━━━━━━━\u001b[0m \u001b[32m61.2/61.2 kB\u001b[0m \u001b[31m1.0 MB/s\u001b[0m eta \u001b[36m0:00:00\u001b[0mta \u001b[36m0:00:01\u001b[0m\n",
      "\u001b[?25h  Installing build dependencies ... \u001b[?25ldone\n",
      "\u001b[?25h  Getting requirements to build wheel ... \u001b[?25ldone\n",
      "\u001b[?25h  Preparing metadata (pyproject.toml) ... \u001b[?25ldone\n",
      "\u001b[?25hCollecting pymsgbox (from pyautogui)\n",
      "  Downloading PyMsgBox-1.0.9.tar.gz (18 kB)\n",
      "  Installing build dependencies ... \u001b[?25ldone\n",
      "\u001b[?25h  Getting requirements to build wheel ... \u001b[?25ldone\n",
      "\u001b[?25h  Preparing metadata (pyproject.toml) ... \u001b[?25ldone\n",
      "\u001b[?25hCollecting pytweening>=1.0.4 (from pyautogui)\n",
      "  Downloading pytweening-1.0.7.tar.gz (168 kB)\n",
      "\u001b[2K     \u001b[90m━━━━━━━━━━━━━━━━━━━━━━━━━━━━━━━━━━━━━━━\u001b[0m \u001b[32m168.2/168.2 kB\u001b[0m \u001b[31m2.6 MB/s\u001b[0m eta \u001b[36m0:00:00\u001b[0ma \u001b[36m0:00:01\u001b[0m\n",
      "\u001b[?25h  Preparing metadata (setup.py) ... \u001b[?25ldone\n",
      "\u001b[?25hCollecting pyscreeze>=0.1.21 (from pyautogui)\n",
      "  Downloading PyScreeze-0.1.30.tar.gz (27 kB)\n",
      "  Installing build dependencies ... \u001b[?25ldone\n",
      "\u001b[?25h  Getting requirements to build wheel ... \u001b[?25ldone\n",
      "\u001b[?25h  Preparing metadata (pyproject.toml) ... \u001b[?25ldone\n",
      "\u001b[?25hCollecting pygetwindow>=0.0.5 (from pyautogui)\n",
      "  Downloading PyGetWindow-0.0.9.tar.gz (9.7 kB)\n",
      "  Preparing metadata (setup.py) ... \u001b[?25ldone\n",
      "\u001b[?25hCollecting mouseinfo (from pyautogui)\n",
      "  Downloading MouseInfo-0.1.3.tar.gz (10 kB)\n",
      "  Preparing metadata (setup.py) ... \u001b[?25ldone\n",
      "\u001b[?25hRequirement already satisfied: pyobjc-core in /Users/gunik/anaconda3/lib/python3.11/site-packages (from pyautogui) (9.2)\n",
      "Requirement already satisfied: pyobjc-framework-quartz in /Users/gunik/anaconda3/lib/python3.11/site-packages (from pyautogui) (9.2)\n",
      "Collecting pyrect (from pygetwindow>=0.0.5->pyautogui)\n",
      "  Downloading PyRect-0.2.0.tar.gz (17 kB)\n",
      "  Preparing metadata (setup.py) ... \u001b[?25ldone\n",
      "\u001b[?25hRequirement already satisfied: Pillow>=9.3.0 in /Users/gunik/anaconda3/lib/python3.11/site-packages (from pyscreeze>=0.1.21->pyautogui) (9.4.0)\n",
      "Collecting pyperclip (from mouseinfo->pyautogui)\n",
      "  Downloading pyperclip-1.8.2.tar.gz (20 kB)\n",
      "  Preparing metadata (setup.py) ... \u001b[?25ldone\n",
      "\u001b[?25hCollecting rubicon-objc (from mouseinfo->pyautogui)\n",
      "  Obtaining dependency information for rubicon-objc from https://files.pythonhosted.org/packages/d0/17/ba5525607d35ad5c256525657780531dd766a27352275c22710a76786460/rubicon_objc-0.4.7-py3-none-any.whl.metadata\n",
      "  Downloading rubicon_objc-0.4.7-py3-none-any.whl.metadata (5.4 kB)\n",
      "Requirement already satisfied: pyobjc-framework-Cocoa>=9.2 in /Users/gunik/anaconda3/lib/python3.11/site-packages (from pyobjc-framework-quartz->pyautogui) (9.2)\n",
      "Downloading rubicon_objc-0.4.7-py3-none-any.whl (61 kB)\n",
      "\u001b[2K   \u001b[90m━━━━━━━━━━━━━━━━━━━━━━━━━━━━━━━━━━━━━━━━\u001b[0m \u001b[32m61.9/61.9 kB\u001b[0m \u001b[31m1.7 MB/s\u001b[0m eta \u001b[36m0:00:00\u001b[0m\n",
      "\u001b[?25hBuilding wheels for collected packages: pyautogui, pygetwindow, pyscreeze, pytweening, mouseinfo, pymsgbox, pyperclip, pyrect\n",
      "  Building wheel for pyautogui (pyproject.toml) ... \u001b[?25ldone\n",
      "\u001b[?25h  Created wheel for pyautogui: filename=PyAutoGUI-0.9.54-py3-none-any.whl size=37576 sha256=e5a5ae37434dfd55bfd2dc57f3aa1b6c59cd05cf459c8084e567d84503031b6f\n",
      "  Stored in directory: /Users/gunik/Library/Caches/pip/wheels/95/dc/b1/fe122b791e0db8bf439a0e6e1d2628e48f10bf430cae13521b\n",
      "  Building wheel for pygetwindow (setup.py) ... \u001b[?25ldone\n",
      "\u001b[?25h  Created wheel for pygetwindow: filename=PyGetWindow-0.0.9-py3-none-any.whl size=11064 sha256=4cbb96eab8389bed395cead995c6ce777807c175fb708c7601c496475901e70a\n",
      "  Stored in directory: /Users/gunik/Library/Caches/pip/wheels/07/75/0b/7ca0b598eb4c21d43ba4bcc78a0538dfcf803a5997da33bc19\n",
      "  Building wheel for pyscreeze (pyproject.toml) ... \u001b[?25ldone\n",
      "\u001b[?25h  Created wheel for pyscreeze: filename=PyScreeze-0.1.30-py3-none-any.whl size=14382 sha256=6330f9735476c6d23d1e6443671615a13ebd2907b43188f7a592553715660c59\n",
      "  Stored in directory: /Users/gunik/Library/Caches/pip/wheels/df/bc/15/d685ca085ca4b11e46e54cc3da4e501a98856c7fea8f604500\n",
      "  Building wheel for pytweening (setup.py) ... \u001b[?25ldone\n",
      "\u001b[?25h  Created wheel for pytweening: filename=pytweening-1.0.7-py3-none-any.whl size=6198 sha256=7e39a3c125804e1d80957fd8368d64ae48430224d5986362945c118714749403\n",
      "  Stored in directory: /Users/gunik/Library/Caches/pip/wheels/b2/9b/02/059beba389e7e31a635bd9e8d9b7299f4ec11caca1f237f56d\n",
      "  Building wheel for mouseinfo (setup.py) ... \u001b[?25ldone\n",
      "\u001b[?25h  Created wheel for mouseinfo: filename=MouseInfo-0.1.3-py3-none-any.whl size=10891 sha256=b305511c330dbdbe8c185c21af6684eaecc69a2682aadc7ddbe459745834e94e\n",
      "  Stored in directory: /Users/gunik/Library/Caches/pip/wheels/20/0b/7f/939ac9ff785b09951c706150537572c00123412f260a6024f3\n",
      "  Building wheel for pymsgbox (pyproject.toml) ... \u001b[?25ldone\n",
      "\u001b[?25h  Created wheel for pymsgbox: filename=PyMsgBox-1.0.9-py3-none-any.whl size=7406 sha256=62235fd9dd11cc21e541516301dc182a9f54f6f621ca603325b286ca0ef30b2c\n",
      "  Stored in directory: /Users/gunik/Library/Caches/pip/wheels/85/92/63/e126ee5f33d8f2ed04f96e43ef5df7270a2f331848752e8662\n",
      "  Building wheel for pyperclip (setup.py) ... \u001b[?25ldone\n",
      "\u001b[?25h  Created wheel for pyperclip: filename=pyperclip-1.8.2-py3-none-any.whl size=11124 sha256=79f1669926bf01235f543fc36a54f8c8fe3256c3873afaa34931503666f17a27\n",
      "  Stored in directory: /Users/gunik/Library/Caches/pip/wheels/70/bd/ba/8ae5c080c895c9360fe6e153acda2dee82527374467eae061b\n",
      "  Building wheel for pyrect (setup.py) ... \u001b[?25ldone\n",
      "\u001b[?25h  Created wheel for pyrect: filename=PyRect-0.2.0-py2.py3-none-any.whl size=11180 sha256=b159690cdeff758d851238bc9b7dc55237f3252ac4bd03e6f0ba974f6696d3b5\n",
      "  Stored in directory: /Users/gunik/Library/Caches/pip/wheels/c4/e9/fc/b7a666dd4f9a3168fb44d643079b41d36ddab52f470707e820\n",
      "Successfully built pyautogui pygetwindow pyscreeze pytweening mouseinfo pymsgbox pyperclip pyrect\n",
      "\u001b[33mDEPRECATION: textract 1.6.5 has a non-standard dependency specifier extract-msg<=0.29.*. pip 23.3 will enforce this behaviour change. A possible replacement is to upgrade to a newer version of textract or contact the author to suggest that they release a version with a conforming dependency specifiers. Discussion can be found at https://github.com/pypa/pip/issues/12063\u001b[0m\u001b[33m\n",
      "\u001b[0mInstalling collected packages: pytweening, pyrect, pyperclip, pymsgbox, rubicon-objc, pyscreeze, pygetwindow, mouseinfo, pyautogui\n",
      "Successfully installed mouseinfo-0.1.3 pyautogui-0.9.54 pygetwindow-0.0.9 pymsgbox-1.0.9 pyperclip-1.8.2 pyrect-0.2.0 pyscreeze-0.1.30 pytweening-1.0.7 rubicon-objc-0.4.7\n",
      "Note: you may need to restart the kernel to use updated packages.\n"
     ]
    }
   ],
   "source": [
    "pip install pyautogui"
   ]
  },
  {
   "cell_type": "code",
   "execution_count": 14,
   "metadata": {},
   "outputs": [
    {
     "name": "stdout",
     "output_type": "stream",
     "text": [
      "Collecting dlib\n",
      "  Downloading dlib-19.24.2.tar.gz (11.8 MB)\n",
      "\u001b[2K     \u001b[90m━━━━━━━━━━━━━━━━━━━━━━━━━━━━━━━━━━━━━━━━\u001b[0m \u001b[32m11.8/11.8 MB\u001b[0m \u001b[31m31.9 MB/s\u001b[0m eta \u001b[36m0:00:00\u001b[0m00:01\u001b[0m00:01\u001b[0m\n",
      "\u001b[?25h  Installing build dependencies ... \u001b[?25ldone\n",
      "\u001b[?25h  Getting requirements to build wheel ... \u001b[?25ldone\n",
      "\u001b[?25h  Preparing metadata (pyproject.toml) ... \u001b[?25ldone\n",
      "\u001b[?25hBuilding wheels for collected packages: dlib\n",
      "  Building wheel for dlib (pyproject.toml) ... \u001b[?25ldone\n",
      "\u001b[?25h  Created wheel for dlib: filename=dlib-19.24.2-cp311-cp311-macosx_13_0_arm64.whl size=3066768 sha256=60851184b7f4a938fa0369f37d457a9b2f5167244eba89d4a60f435caa368e21\n",
      "  Stored in directory: /Users/gunik/Library/Caches/pip/wheels/61/05/62/44b0bf18a0f8f9a0d65337b11237ecf12926d0d6e3807500bb\n",
      "Successfully built dlib\n",
      "\u001b[33mDEPRECATION: textract 1.6.5 has a non-standard dependency specifier extract-msg<=0.29.*. pip 23.3 will enforce this behaviour change. A possible replacement is to upgrade to a newer version of textract or contact the author to suggest that they release a version with a conforming dependency specifiers. Discussion can be found at https://github.com/pypa/pip/issues/12063\u001b[0m\u001b[33m\n",
      "\u001b[0mInstalling collected packages: dlib\n",
      "Successfully installed dlib-19.24.2\n",
      "Note: you may need to restart the kernel to use updated packages.\n"
     ]
    }
   ],
   "source": [
    "pip install dlib"
   ]
  },
  {
   "cell_type": "code",
   "execution_count": 1,
   "metadata": {},
   "outputs": [],
   "source": [
    "from imutils import face_utils\n",
    "from utils import *\n",
    "import imutils\n",
    "import numpy as np\n",
    "import pyautogui as pag\n",
    "import dlib\n",
    "import cv2\n"
   ]
  },
  {
   "cell_type": "code",
   "execution_count": 2,
   "metadata": {},
   "outputs": [],
   "source": [
    "# Thresholds and consecutive frame length for triggering the mouse action. MOUTH_AR_THRESH = 0.3\n",
    "MOUTH_AR_CONSECUTIVE_FRAMES = 5\n",
    "EYE_AR_THRESH = 0.20\n",
    "EYE_AR_CONSECUTIVE_FRAMES = 5\n",
    "WINK_AR_DIFF_THRESH = 0.001\n",
    "WINK_AR_CLOSE_THRESH = 0.20\n",
    "WINK_CONSECUTIVE_FRAMES = 4"
   ]
  },
  {
   "cell_type": "code",
   "execution_count": 3,
   "metadata": {},
   "outputs": [],
   "source": [
    "# Initialize the frame counters for each action as well as # booleans used to indicate if action is performed or not MOUTH_COUNTER = 0\n",
    "EYE_COUNTER = 0\n",
    "WINK_COUNTER = 0\n",
    "INPUT_MODE = False\n",
    "EYE_CLICK = False\n",
    "LEFT_WINK = False\n",
    "RIGHT_WINK = False\n",
    "SCROLL_MODE = False\n",
    "ANCHOR_POINT = (0, 0)\n",
    "WHITE_COLOR = (255, 255, 255)\n",
    "YELLOW_COLOR = (0, 255, 255)\n",
    "RED_COLOR = (0, 0, 255)\n",
    "GREEN_COLOR = (0, 255, 0)\n",
    "BLUE_COLOR = (255, 0, 0)\n",
    "BLACK_COLOR = (0, 0, 0)"
   ]
  },
  {
   "cell_type": "code",
   "execution_count": 6,
   "metadata": {},
   "outputs": [],
   "source": [
    "# Initialize Dlib's face detector (HOG-based) and then create\n",
    "# the facial landmark predictor\n",
    "shape_predictor = \"/Users/gunik/Downloads/shape_predictor_68_face_landmarks.dat\" \n",
    "detector = dlib.get_frontal_face_detector()\n",
    "predictor = dlib.shape_predictor(shape_predictor)"
   ]
  },
  {
   "cell_type": "code",
   "execution_count": 7,
   "metadata": {},
   "outputs": [],
   "source": [
    "# Grab the indexes of the facial landmarks for the left and\n",
    "# right eye, nose and mouth respectively\n",
    "(lStart, lEnd) = face_utils.FACIAL_LANDMARKS_IDXS[\"left_eye\"] \n",
    "(rStart, rEnd) = face_utils.FACIAL_LANDMARKS_IDXS[\"right_eye\"] \n",
    "(nStart, nEnd) = face_utils.FACIAL_LANDMARKS_IDXS[\"nose\"] \n",
    "(mStart, mEnd) = face_utils.FACIAL_LANDMARKS_IDXS[\"mouth\"]"
   ]
  },
  {
   "cell_type": "code",
   "execution_count": 12,
   "metadata": {},
   "outputs": [
    {
     "ename": "KeyboardInterrupt",
     "evalue": "",
     "output_type": "error",
     "traceback": [
      "\u001b[0;31m---------------------------------------------------------------------------\u001b[0m",
      "\u001b[0;31mKeyboardInterrupt\u001b[0m                         Traceback (most recent call last)",
      "Cell \u001b[0;32mIn[12], line 12\u001b[0m\n\u001b[1;32m      8\u001b[0m unit_h \u001b[38;5;241m=\u001b[39m resolution_h \u001b[38;5;241m/\u001b[39m cam_h\n\u001b[1;32m      9\u001b[0m \u001b[38;5;28;01mwhile\u001b[39;00m \u001b[38;5;28;01mTrue\u001b[39;00m:\n\u001b[1;32m     10\u001b[0m \u001b[38;5;66;03m# Grab the frame from the threaded video file stream, resize # it, and convert it to grayscale\u001b[39;00m\n\u001b[1;32m     11\u001b[0m \u001b[38;5;66;03m# channels\u001b[39;00m\n\u001b[0;32m---> 12\u001b[0m     _, frame \u001b[38;5;241m=\u001b[39m vid\u001b[38;5;241m.\u001b[39mread()\n\u001b[1;32m     13\u001b[0m     frame \u001b[38;5;241m=\u001b[39m cv2\u001b[38;5;241m.\u001b[39mflip(frame, \u001b[38;5;241m1\u001b[39m)\n\u001b[1;32m     14\u001b[0m     frame \u001b[38;5;241m=\u001b[39m imutils\u001b[38;5;241m.\u001b[39mresize(frame, width\u001b[38;5;241m=\u001b[39mcam_w, height\u001b[38;5;241m=\u001b[39mcam_h) \n",
      "\u001b[0;31mKeyboardInterrupt\u001b[0m: "
     ]
    }
   ],
   "source": [
    "# Video capture\n",
    "vid = cv2.VideoCapture(0)\n",
    "resolution_w = 1366\n",
    "resolution_h = 768\n",
    "cam_w = 640\n",
    "cam_h = 480\n",
    "unit_w = resolution_w / cam_w\n",
    "unit_h = resolution_h / cam_h\n",
    "while True:\n",
    "# Grab the frame from the threaded video file stream, resize # it, and convert it to grayscale\n",
    "# channels\n",
    "    _, frame = vid.read()\n",
    "    frame = cv2.flip(frame, 1)\n",
    "    frame = imutils.resize(frame, width=cam_w, height=cam_h) \n",
    "    gray = cv2.cvtColor(frame, cv2.COLOR_BGR2GRAY)\n",
    "# Detect faces in the grayscale frame \n",
    "    rects = detector(gray, 0)\n",
    "    # Loop over the face detections\n",
    "    if len(rects) > 0:\n",
    "        rect = rects[0]\n",
    "    else:\n",
    "        cv2.imshow(\"Frame\", frame)\n",
    "        key = cv2.waitKey(1) & 0xFF\n",
    "        continue\n"
   ]
  },
  {
   "cell_type": "code",
   "execution_count": 13,
   "metadata": {},
   "outputs": [],
   "source": [
    "# Determine the facial landmarks for the face region, then # convert the facial landmark (x, y)-coordinates to a NumPy # array\n",
    "shape = predictor(gray, rect)\n",
    "shape = face_utils.shape_to_np(shape)\n"
   ]
  },
  {
   "cell_type": "code",
   "execution_count": 16,
   "metadata": {},
   "outputs": [],
   "source": [
    "# Extract the left and right eye coordinates, then use the # coordinates to compute the eye aspect ratio for both eyes\n",
    "mouth = shape[mStart:mEnd]\n",
    "leftEye = shape[lStart:lEnd]\n",
    "rightEye = shape[rStart:rEnd]\n",
    "nose = shape[nStart:nEnd]"
   ]
  },
  {
   "cell_type": "code",
   "execution_count": 17,
   "metadata": {},
   "outputs": [],
   "source": [
    "# Because I flipped the frame, left is right, right is left.\n",
    "temp = leftEye\n",
    "leftEye = rightEye\n",
    "rightEye = temp\n"
   ]
  },
  {
   "cell_type": "code",
   "execution_count": 19,
   "metadata": {},
   "outputs": [
    {
     "ename": "NameError",
     "evalue": "name 'mouth_aspect_ratio' is not defined",
     "output_type": "error",
     "traceback": [
      "\u001b[0;31m---------------------------------------------------------------------------\u001b[0m",
      "\u001b[0;31mNameError\u001b[0m                                 Traceback (most recent call last)",
      "Cell \u001b[0;32mIn[19], line 2\u001b[0m\n\u001b[1;32m      1\u001b[0m \u001b[38;5;66;03m# Average the mouth aspect ratio together for both eyes \u001b[39;00m\n\u001b[0;32m----> 2\u001b[0m mar \u001b[38;5;241m=\u001b[39m mouth_aspect_ratio(mouth)\n\u001b[1;32m      3\u001b[0m leftEAR \u001b[38;5;241m=\u001b[39m eye_aspect_ratio(leftEye)\n\u001b[1;32m      4\u001b[0m rightEAR \u001b[38;5;241m=\u001b[39m eye_aspect_ratio(rightEye)\n",
      "\u001b[0;31mNameError\u001b[0m: name 'mouth_aspect_ratio' is not defined"
     ]
    }
   ],
   "source": [
    "\n",
    "# Average the mouth aspect ratio together for both eyes \n",
    "mar = mouth_aspect_ratio(mouth)\n",
    "leftEAR = eye_aspect_ratio(leftEye)\n",
    "rightEAR = eye_aspect_ratio(rightEye)\n",
    "ear = (leftEAR + rightEAR) / 2.0 \n",
    "diff_ear = np.abs(leftEAR - rightEAR)\n",
    "nose_point = (nose[3, 0], nose[3, 1])"
   ]
  },
  {
   "cell_type": "code",
   "execution_count": null,
   "metadata": {},
   "outputs": [],
   "source": [
    "# Compute the convex hull for the left and right eye, then # visualize each of the eyes\n",
    "mouthHull = cv2.convexHull(mouth)"
   ]
  },
  {
   "cell_type": "code",
   "execution_count": null,
   "metadata": {},
   "outputs": [],
   "source": [
    "leftEyeHull = cv2.convexHull(leftEye)\n",
    "rightEyeHull = cv2.convexHull(rightEye)\n",
    "cv2.drawContours(frame, [mouthHull], -1, YELLOW_COLOR, 1) \n",
    "cv2.drawContours(frame, [leftEyeHull], -1, YELLOW_COLOR, 1) \n",
    "cv2.drawContours(frame, [rightEyeHull], -1, YELLOW_COLOR, 1)\n",
    "for (x, y) in np.concatenate((mouth, leftEye, rightEye), axis=0): \n",
    "    cv2.circle(frame, (x, y), 2, GREEN_COLOR, -1)\n",
    "    # Check to see if the eye aspect ratio is below the blink # threshold, and if so, increment the blink frame counter if diff_ear > WINK_AR_DIFF_THRESH:\n",
    "    if leftEAR < rightEAR:\n",
    "        if leftEAR < EYE_AR_THRESH:\n",
    "            WINK_COUNTER += 1\n",
    "        if WINK_COUNTER > WINK_CONSECUTIVE_FRAMES: pag.click(button='left')\n",
    "        WINK_COUNTER = 0\n",
    "    elif leftEAR > rightEAR:\n",
    "        if rightEAR < EYE_AR_THRESH:\n",
    "            WINK_COUNTER += 1\n",
    "        if WINK_COUNTER > WINK_CONSECUTIVE_FRAMES: pag.click(button='right')\n",
    "        WINK_COUNTER = 0\n",
    "        else:\n",
    "            WINK_COUNTER = 0\n",
    "        else:\n",
    "    if ear <= EYE_AR_THRESH:\n",
    "        EYE_COUNTER += 1\n",
    "if EYE_COUNTER > EYE_AR_CONSECUTIVE_FRAMES: SCROLL_MODE = not SCROLL_MODE\n",
    "# INPUT_MODE = not INPUT_MODE EYE_COUNTER = 0\n",
    "            # nose point to draw a bounding box around it\n",
    "    else:\n",
    "        EYE_COUNTER = 0\n",
    "        WINK_COUNTER = 0\n",
    "if mar > MOUTH_AR_THRESH:\n",
    "    MOUTH_COUNTER += 1\n",
    "if MOUTH_COUNTER >= MOUTH_AR_CONSECUTIVE_FRAMES: # if the alarm is not on, turn it on INPUT_MODE = not INPUT_MODE\n",
    "# SCROLL_MODE = not SCROLL_MODE MOUTH_COUNTER = 0\n",
    "        ANCHOR_POINT = nose_point\n",
    "else:\n",
    "    MOUTH_COUNTER = 0\n",
    "2)\n",
    "x, y = ANCHOR_POINT\n",
    "nx, ny = nose_point\n",
    "w, h = 60, 35\n",
    "multiple = 1\n",
    "cv2.rectangle(frame, (x - w, y - h), (x + w, y + h), GREEN_COLOR,\n",
    "cv2.line(frame, ANCHOR_POINT, nose_point, BLUE_COLOR, 2)\n",
    "dir = direction(nose_point, ANCHOR_POINT, w, h)\n",
    "if INPUT_MODE:\n",
    "cv2.putText(frame, \"READING INPUT!\", (10, 30), cv2.FONT_HERSHEY_SIMPLEX, 0.7, RED_COLOR, 2)\n",
    "cv2.putText(frame, dir.upper(), (10, 90), cv2.FONT_HERSHEY_SIMPLEX, 0.7, RED_COLOR, 2)\n",
    "        drag = 18\n",
    "        if dir == 'right':\n",
    "            pag.moveRel(drag, 0)\n",
    "        elif dir == 'left':\n",
    "            pag.moveRel(-drag, 0)\n",
    "        elif dir == 'up':\n",
    "            if SCROLL_MODE:\n",
    "                pag.scroll(40)\n",
    "            else:\n",
    "                pag.moveRel(0, -drag)\n",
    "        elif dir == 'down':\n",
    "            if SCROLL_MODE:\n",
    "                pag.scroll(-40)\n",
    "            else:\n",
    "                pag.moveRel(0, drag)\n",
    "    if SCROLL_MODE:\n",
    "\n",
    "cv2.putText(frame, 'SCROLL MODE IS ON!', (10, 60), cv2.FONT_HERSHEY_SIMPLEX, 0.7, RED_COLOR, 2)\n",
    "# # # # # # #\n",
    "# cv2.FONT_HERSHEY_SIMPLEX, 0.7, (0, 0, 255), 2)\n",
    "    # Show the frame\n",
    "    cv2.imshow(\"Frame\", frame)\n",
    "    key = cv2.waitKey(1) & 0xFF\n",
    "# If the `Esc` key was pressed, break from the loop if key == 27:\n",
    "break\n",
    "# Do a bit of cleanup\n",
    "cv2.destroyAllWindows()\n",
    "vid.release()\n",
    "    \n"
   ]
  }
 ],
 "metadata": {
  "kernelspec": {
   "display_name": "Python 3",
   "language": "python",
   "name": "python3"
  },
  "language_info": {
   "codemirror_mode": {
    "name": "ipython",
    "version": 3
   },
   "file_extension": ".py",
   "mimetype": "text/x-python",
   "name": "python",
   "nbconvert_exporter": "python",
   "pygments_lexer": "ipython3",
   "version": "3.11.5"
  }
 },
 "nbformat": 4,
 "nbformat_minor": 2
}
